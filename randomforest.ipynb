{
 "cells": [
  {
   "cell_type": "code",
   "execution_count": 1,
   "id": "7a1e0f94",
   "metadata": {},
   "outputs": [],
   "source": [
    "import pandas as pd\n",
    "import numpy as np\n",
    "from sklearn.model_selection import train_test_split\n",
    "from sklearn.feature_extraction.text import TfidfVectorizer\n",
    "from sklearn.preprocessing import LabelEncoder\n",
    "from sklearn.ensemble import RandomForestClassifier\n",
    "from sklearn.metrics import classification_report\n",
    "from sklearn.pipeline import FeatureUnion\n",
    "from scipy.sparse import hstack\n"
   ]
  },
  {
   "cell_type": "code",
   "execution_count": 2,
   "id": "e7540ffd",
   "metadata": {},
   "outputs": [],
   "source": [
    "df = pd.read_csv('df_andersen_clean_for_LLM.csv')\n",
    "y = df[\"recommended_grade\"].astype(str)\n",
    "\n",
    "# текстовые поля для TF-IDF\n",
    "text_cols = [\"course_name\", \"summary\", \"category_name\", \"course_structure\"]\n",
    "\n",
    "# объединяем все тексты в один, так проще\n",
    "df[\"text_all\"] = df[text_cols].fillna(\"\").agg(\" \".join, axis=1)\n",
    "\n",
    "# категориальные признаки\n",
    "cat_cols = [] "
   ]
  },
  {
   "cell_type": "code",
   "execution_count": 3,
   "id": "bfc4345a",
   "metadata": {},
   "outputs": [],
   "source": [
    "\"\"\"кодируем, на этот раз нормально\"\"\"\n",
    "\n",
    "# TF-IDF для текста\n",
    "tfidf = TfidfVectorizer(max_features=5000, ngram_range=(1,2))\n",
    "X_text = tfidf.fit_transform(df[\"text_all\"])\n",
    "\n",
    "# категориальные признаки\n",
    "X_cat = []\n",
    "for col in cat_cols:\n",
    "    le = LabelEncoder()\n",
    "    X_cat.append(le.fit_transform(df[col].astype(str)).reshape(-1,1))\n",
    "\n",
    "if X_cat:\n",
    "    X_cat = np.hstack(X_cat)\n",
    "    from scipy.sparse import csr_matrix\n",
    "    X_cat = csr_matrix(X_cat)\n",
    "    X = hstack([X_text, X_cat])\n",
    "else:\n",
    "    X = X_text"
   ]
  },
  {
   "cell_type": "code",
   "execution_count": 4,
   "id": "1e99984e",
   "metadata": {},
   "outputs": [
    {
     "name": "stdout",
     "output_type": "stream",
     "text": [
      "              precision    recall  f1-score   support\n",
      "\n",
      "         All       0.60      0.67      0.64        43\n",
      "           J       0.72      0.91      0.80       153\n",
      "           M       0.91      0.20      0.33        50\n",
      "           S       1.00      0.20      0.33         5\n",
      "         nan       0.88      0.75      0.81        20\n",
      "\n",
      "    accuracy                           0.72       271\n",
      "   macro avg       0.82      0.55      0.58       271\n",
      "weighted avg       0.75      0.72      0.68       271\n",
      "\n"
     ]
    }
   ],
   "source": [
    "# обучаем \n",
    "\n",
    "X_train, X_test, y_train, y_test = train_test_split(X, y, test_size=0.2, random_state=42, stratify=y)\n",
    "\n",
    "clf = RandomForestClassifier(\n",
    "    n_estimators=300,\n",
    "    max_depth=20,\n",
    "    class_weight=\"balanced\",\n",
    "    random_state=42,\n",
    "    n_jobs=-1\n",
    ")\n",
    "clf.fit(X_train, y_train)\n",
    "\n",
    "y_pred = clf.predict(X_test)\n",
    "print(classification_report(y_test, y_pred))"
   ]
  },
  {
   "cell_type": "code",
   "execution_count": 6,
   "id": "7a117e88",
   "metadata": {},
   "outputs": [],
   "source": [
    "df_final = pd.read_excel('aston_origin.xlsx')\n",
    "df_final[\"text_all\"] = df_final[text_cols].fillna(\"\").agg(\" \".join, axis=1)\n",
    "\n",
    "X_final_text = tfidf.transform(df_final[\"text_all\"])\n",
    "if X_cat:\n",
    "    X_final_cat = []\n",
    "    for i, col in enumerate(cat_cols):\n",
    "        X_final_cat.append(le.fit_transform(df_final[col].astype(str)).reshape(-1,1))\n",
    "    X_final_cat = np.hstack(X_final_cat)\n",
    "    X_final_cat = csr_matrix(X_final_cat)\n",
    "    X_final = hstack([X_final_text, X_final_cat])\n",
    "else:\n",
    "    X_final = X_final_text\n",
    "\n",
    "df_final[\"recommended_grade\"] = clf.predict(X_final)\n"
   ]
  },
  {
   "cell_type": "code",
   "execution_count": 7,
   "id": "f959c7e3",
   "metadata": {},
   "outputs": [
    {
     "data": {
      "text/plain": [
       "recommended_grade\n",
       "J      456\n",
       "nan     82\n",
       "M       47\n",
       "All     29\n",
       "S        1\n",
       "Name: count, dtype: int64"
      ]
     },
     "execution_count": 7,
     "metadata": {},
     "output_type": "execute_result"
    }
   ],
   "source": [
    "df_final['recommended_grade'].value_counts()\n",
    "#Aston"
   ]
  },
  {
   "cell_type": "markdown",
   "id": "b8a55d4f",
   "metadata": {},
   "source": [
    "Все равно переобучается для определения J\n",
    "\n",
    "Плюс 82 неопределенных курса "
   ]
  },
  {
   "cell_type": "code",
   "execution_count": 8,
   "id": "457a9a15",
   "metadata": {},
   "outputs": [
    {
     "data": {
      "text/plain": [
       "recommended_grade\n",
       "J      764\n",
       "M      249\n",
       "All    216\n",
       "S       22\n",
       "Name: count, dtype: int64"
      ]
     },
     "execution_count": 8,
     "metadata": {},
     "output_type": "execute_result"
    }
   ],
   "source": [
    "df['recommended_grade'].value_counts()\n",
    "#Andersen"
   ]
  }
 ],
 "metadata": {
  "kernelspec": {
   "display_name": ".venv",
   "language": "python",
   "name": "python3"
  },
  "language_info": {
   "codemirror_mode": {
    "name": "ipython",
    "version": 3
   },
   "file_extension": ".py",
   "mimetype": "text/x-python",
   "name": "python",
   "nbconvert_exporter": "python",
   "pygments_lexer": "ipython3",
   "version": "3.12.3"
  }
 },
 "nbformat": 4,
 "nbformat_minor": 5
}
